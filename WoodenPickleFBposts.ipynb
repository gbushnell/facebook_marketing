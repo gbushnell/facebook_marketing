{
  "nbformat": 4,
  "nbformat_minor": 0,
  "metadata": {
    "colab": {
      "name": "WoodenPickleFBposts.ipynb",
      "provenance": [],
      "toc_visible": true,
      "authorship_tag": "ABX9TyMYo05EFv6Ozi1gfXHJsPw7",
      "include_colab_link": true
    },
    "kernelspec": {
      "name": "python3",
      "display_name": "Python 3"
    }
  },
  "cells": [
    {
      "cell_type": "markdown",
      "metadata": {
        "id": "view-in-github",
        "colab_type": "text"
      },
      "source": [
        "<a href=\"https://colab.research.google.com/github/gbushnell/facebook_marketing/blob/master/WoodenPickleFBposts.ipynb\" target=\"_parent\"><img src=\"https://colab.research.google.com/assets/colab-badge.svg\" alt=\"Open In Colab\"/></a>"
      ]
    },
    {
      "cell_type": "markdown",
      "metadata": {
        "id": "hvB9rAY9TcJ8",
        "colab_type": "text"
      },
      "source": [
        "QUESTION: Do Facebook posts influence sales?\n",
        "  ---\n",
        "Sales ~ $\\alpha + \\beta a + \\epsilon$ \n",
        "\n",
        "where a = binary (advertisement on day  = 1, 0 otherwise)\n",
        "\n"
      ]
    },
    {
      "cell_type": "code",
      "metadata": {
        "id": "-HlhVSVdRRAf",
        "colab_type": "code",
        "colab": {}
      },
      "source": [
        "#install & load scraper\n",
        "!pip install facebook_scraper\n",
        "\n",
        "from facebook_scraper import get_posts"
      ],
      "execution_count": null,
      "outputs": []
    },
    {
      "cell_type": "markdown",
      "metadata": {
        "id": "1S51OT_QUDB9",
        "colab_type": "text"
      },
      "source": [
        "**1. Lets first scrape the posts from the first 100 pages of their Facebook page.**"
      ]
    },
    {
      "cell_type": "code",
      "metadata": {
        "id": "o_vD_JZ3SXuN",
        "colab_type": "code",
        "colab": {}
      },
      "source": [
        "#scrape\n",
        "post_list = []\n",
        "\n",
        "for post in get_posts('my_company_fb_page', pages=100):\n",
        "  post_list.append(post)"
      ],
      "execution_count": null,
      "outputs": []
    },
    {
      "cell_type": "code",
      "metadata": {
        "id": "4LY7MaTXTbFA",
        "colab_type": "code",
        "colab": {
          "base_uri": "https://localhost:8080/",
          "height": 71
        },
        "outputId": "be6c7bbc-0c7b-4323-baf0-b22592be2692"
      },
      "source": [
        "#View the data \n",
        "print(post_list[0].keys())\n",
        "print(\"Number of Posts: {}\".format(len(post_list)))"
      ],
      "execution_count": null,
      "outputs": [
        {
          "output_type": "stream",
          "text": [
            "dict_keys(['post_id', 'text', 'post_text', 'shared_text', 'time', 'image', 'likes', 'comments', 'shares', 'post_url', 'link'])\n",
            "Number of Posts: 18\n"
          ],
          "name": "stdout"
        }
      ]
    },
    {
      "cell_type": "markdown",
      "metadata": {
        "id": "xJr6UXUlVSbZ",
        "colab_type": "text"
      },
      "source": [
        "**2. Lets clean up the list, keeping only Time, Image, Likes, Comments, Shares.**"
      ]
    },
    {
      "cell_type": "code",
      "metadata": {
        "id": "dxTDhwHUVhpe",
        "colab_type": "code",
        "colab": {}
      },
      "source": [
        "post_list_cleaned = []\n",
        "\n",
        "for post in post_list:\n",
        "  #create a list of indexes to keep\n",
        "  temp = []\n",
        "  indexes_to_keep = ['time', 'image', 'likes', 'comments', 'shares']\n",
        "  for key in indexes_to_keep:\n",
        "    temp.append(post[key])\n",
        "  post_list_cleaned.append(temp)\n",
        "\n",
        "#Remove image hyperlink, replace with 0, 1\n",
        "for post in post_list_cleaned:\n",
        "  if post[1] == None:\n",
        "    post[1] = 0\n",
        "  else:\n",
        "    post[1] = 1\n",
        "\n",
        "#Strip data from datatime stamp\n",
        "for post in post_list_cleaned:\n",
        "  year = post[0].year\n",
        "  month = post[0].month\n",
        "  day = post[0].day\n",
        "  del post[0]\n",
        "  post.insert(0,day)\n",
        "  post.insert(0, month)\n",
        "  post.insert(0, year)"
      ],
      "execution_count": null,
      "outputs": []
    },
    {
      "cell_type": "markdown",
      "metadata": {
        "id": "A5FAWR2l17kO",
        "colab_type": "text"
      },
      "source": [
        "**3. Export data to CSV. The data will then be merged with daily sales data and modeled in *R*.**"
      ]
    },
    {
      "cell_type": "code",
      "metadata": {
        "id": "n51uJguGwMei",
        "colab_type": "code",
        "colab": {}
      },
      "source": [
        "with open('export3.csv','w') as f:\n",
        "    headers = [\"Year\", \"Month\", \"Day\", \"Image\", \"Likes\", \"Comments\", \"Shares\"]\n",
        "    f.write(\" , \".join(headers))\n",
        "    for sublist in post_list_cleaned:\n",
        "        for item in sublist:\n",
        "            f.write(str(item) + ',')\n",
        "        f.write('\\n')\n"
      ],
      "execution_count": null,
      "outputs": []
    },
    {
      "cell_type": "code",
      "metadata": {
        "id": "Q2doDCg9xJhl",
        "colab_type": "code",
        "colab": {
          "base_uri": "https://localhost:8080/",
          "height": 34
        },
        "outputId": "03caf847-fa30-4a7f-cb73-3d5500b40f85"
      },
      "source": [
        "!ls"
      ],
      "execution_count": null,
      "outputs": [
        {
          "output_type": "stream",
          "text": [
            "export.csv  sample_data\n"
          ],
          "name": "stdout"
        }
      ]
    }
  ]
}